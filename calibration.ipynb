{
 "cells": [
  {
   "cell_type": "code",
   "execution_count": 3,
   "metadata": {},
   "outputs": [
    {
     "name": "stdout",
     "output_type": "stream",
     "text": [
      "Imageio: 'libfreeimage-3.16.0-linux64.so' was not found on your computer; downloading it now.\n",
      "Try 1. Download from https://github.com/imageio/imageio-binaries/raw/master/freeimage/libfreeimage-3.16.0-linux64.so (4.6 MB)\n",
      "Downloading: 8192/4830080 bytes (0.2%4830080/4830080 bytes (100.0%)\n",
      "  Done\n",
      "File saved as /home/raumfisch/.imageio/freeimage/libfreeimage-3.16.0-linux64.so.\n"
     ]
    }
   ],
   "source": [
    "# Imports and data loading\n",
    "import numpy as np\n",
    "import cv2 as cv\n",
    "import os\n",
    "import math\n",
    "from PIL import Image\n",
    "\n",
    "import colour\n",
    "import imageio\n",
    "imageio.plugins.freeimage.download()\n",
    "\n",
    "IMAGE_DTYPE='float16'\n",
    "\n",
    "NUM_IMAGES=32\n",
    "IMG_NAME=\"chromeball.\"\n",
    "INPUT_PATH=\"../../data/simulated\"\n",
    "OUTPUT_PATH=\"../../data/output\"\n",
    "\n",
    "# Load images\n",
    "frames=[]\n",
    "for i in range(2, NUM_IMAGES+1):\n",
    "    file = os.path.join(os.path.abspath(INPUT_PATH), f\"{IMG_NAME}{i:04}.exr\")\n",
    "    frames.append(colour.read_image(file, bit_depth=IMAGE_DTYPE, method='Imageio'))\n",
    "original = colour.read_image(os.path.join(os.path.abspath(INPUT_PATH), f\"{IMG_NAME}0001.exr\"), bit_depth=IMAGE_DTYPE, method='Imageio')\n",
    "original = original[:,:,:3] # Only use red channel"
   ]
  },
  {
   "cell_type": "code",
   "execution_count": 3,
   "metadata": {},
   "outputs": [],
   "source": [
    "# Find center and radius of chromeball (use alpha mask here)\n",
    "mask = (frames[0][...,3] * 255).astype('uint8')\n",
    "center = (0,0)\n",
    "radius = 0\n",
    "\n",
    "if True:\n",
    "    gray = mask\n",
    "    #cv.medianBlur(mask, 5)\n",
    "\n",
    "    #cv.Smooth(orig, orig, cv.CV_GAUSSIAN, 5, 5)\n",
    "    #cv.CvtColor(orig, grey_scale, cv.CV_RGB2GRAY)\n",
    "    #cv.Erode(grey_scale, processed, None, 10)\n",
    "    #cv.Dilate(processed, processed, None, 10)\n",
    "    #cv.Canny(processed, processed, 5, 70, 3)\n",
    "    #cv.Smooth(processed, processed, cv.CV_GAUSSIAN, 15, 15)\n",
    "    \n",
    "    rows = gray.shape[0]\n",
    "    circles = cv.HoughCircles(gray, cv.HOUGH_GRADIENT, 1, rows / 8,\n",
    "                                param1=100, param2=30,\n",
    "                                minRadius=100, maxRadius=1080)\n",
    "        \n",
    "    if circles is not None:\n",
    "        circles = np.uint16(np.around(circles))\n",
    "        for i in circles[0, :]:\n",
    "            center = np.array((i[0], i[1]))\n",
    "            radius = i[2]\n",
    "            \n",
    "            #orig = np.dstack((gray, gray, gray))\n",
    "            # circle center\n",
    "            #cv.circle(orig, center, 1, (0, 100, 100), 3)\n",
    "            # circle outline\n",
    "            #cv.circle(orig, center, radius, (255, 0, 255), 3)\n",
    "\n"
   ]
  },
  {
   "cell_type": "code",
   "execution_count": 29,
   "metadata": {},
   "outputs": [
    {
     "name": "stdout",
     "output_type": "stream",
     "text": [
      "0: -89.70002483769609 - 0.2776201069355011\n",
      "1: -89.8438810961417 - 0.5334322452545166\n",
      "2: -89.88654315916008 - 0.734013020992279\n",
      "3: -89.9052963184549 - 0.8793616890907288\n",
      "4: -89.37627587340576 - 0.9346483945846558\n",
      "7: 89.90832683100679 - 0.9084314107894897\n",
      "8: 89.88787532999517 - 0.7427339553833008\n",
      "9: 89.84040214115332 - 0.5218043923377991\n",
      "10: 89.69360837772929 - 0.2718062102794647\n",
      "11: -45.0 - 0.0020555430091917515\n",
      "12: -0.35150343987335203 - 0.23692306876182556\n",
      "13: -53.810732985984906 - 0.41601771116256714\n",
      "14: -64.46866362968093 - 0.6845821738243103\n",
      "15: -61.33819347073664 - 0.9060841798782349\n",
      "16: -35.7633394038445 - 0.8580088019371033\n",
      "17: 35.70902914508374 - 0.903964638710022\n",
      "18: 60.99745141008237 - 0.9323218464851379\n",
      "19: 64.36339781718272 - 0.6819602847099304\n",
      "20: 53.57299836361139 - 0.41367512941360474\n",
      "21: -0.1818907524971836 - 0.4578511416912079\n",
      "22: -35.66243704937296 - 0.6207773685455322\n",
      "23: -36.29152612504515 - 0.950339138507843\n",
      "24: -1.1546423253669917 - 0.9376903772354126\n",
      "25: 35.44432426234189 - 0.8296172618865967\n",
      "26: 35.38027220030115 - 0.6150334477424622\n",
      "27: -0.12992217984242885 - 0.6409900188446045\n",
      "28: -14.754731604265544 - 0.7590410709381104\n",
      "29: -0.1014083534251242 - 0.821222186088562\n",
      "30: 14.77816173293736 - 0.7350714802742004\n"
     ]
    }
   ],
   "source": [
    "# Find reflections in each image\n",
    "i = 0\n",
    "orig = (np.clip(original, 0, 1) * 255).astype('uint8')\n",
    "\n",
    "for frame in frames:\n",
    "    frame = frame[:,:,:1] # Only use red channel\n",
    "    frame = (np.clip(frame, 0, 1) * 255).astype('uint8')\n",
    "    rows = frame.shape[0]\n",
    "    circles = cv.HoughCircles(frame, cv.HOUGH_GRADIENT, 1, rows / 2,\n",
    "                                param1=100, param2=5,\n",
    "                                minRadius=1, maxRadius=100)\n",
    "        \n",
    "    if circles is not None:\n",
    "        for c in circles[0, :]:\n",
    "            point = (int(c[0]+0.5),int(c[1]+0.5))\n",
    "            cv.line(orig, point, center, (0,255,0))\n",
    "\n",
    "            # Calculate spherical coordinates (O = center, I = reflection)\n",
    "            refl_c = np.array((c[0], c[1]))\n",
    "            OI = refl_c - center\n",
    "            length = np.linalg.norm(OI) / radius\n",
    "            phi = np.angle(-OI[1]+OI[0]*1j, deg=True)\n",
    "            print(f\"{i}: {phi} - {length}\")\n",
    "            # Calculate angles relative to z axis\n",
    "            z = math.sin(length*math.pi/2)\n",
    "            print(f\">: {z} - {length}\")\n",
    "\n",
    "    i += 1\n",
    "\n",
    "if True:\n",
    "    file = os.path.join(OUTPUT_PATH, f\"positions.png\")\n",
    "    colour.write_image(orig, file, 'uint8', method='Imageio')"
   ]
  },
  {
   "cell_type": "code",
   "execution_count": 5,
   "metadata": {},
   "outputs": [],
   "source": [
    "# Save images\n",
    "i = 1\n",
    "for frame in frames:\n",
    "    file = os.path.join(OUTPUT_PATH, f\"{IMG_NAME}{i:04}.exr\")\n",
    "    colour.write_image(frame, file, 'float32', method='Imageio')\n",
    "    i += 1"
   ]
  }
 ],
 "metadata": {
  "kernelspec": {
   "display_name": "raumfisch",
   "language": "python",
   "name": "python3"
  },
  "language_info": {
   "codemirror_mode": {
    "name": "ipython",
    "version": 3
   },
   "file_extension": ".py",
   "mimetype": "text/x-python",
   "name": "python",
   "nbconvert_exporter": "python",
   "pygments_lexer": "ipython3",
   "version": "3.11.6"
  }
 },
 "nbformat": 4,
 "nbformat_minor": 2
}
