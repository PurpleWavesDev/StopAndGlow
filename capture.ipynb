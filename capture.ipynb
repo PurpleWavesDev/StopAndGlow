{
 "cells": [
  {
   "cell_type": "code",
   "execution_count": 2,
   "metadata": {},
   "outputs": [],
   "source": [
    "import cv2 \n",
    "import numpy as np \n",
    "  \n",
    "# Read image. \n",
    "img = cv2.imread('chromeball_bright.png', cv2.IMREAD_COLOR) \n",
    "  \n",
    "# Convert to grayscale. \n",
    "gray = cv2.cvtColor(img, cv2.COLOR_BGR2GRAY) \n",
    "  \n",
    "# Blur using 3 * 3 kernel. \n",
    "gray_blurred = cv2.blur(gray, (3, 3)) \n",
    "  \n",
    "# Apply Hough transform on the blurred image. \n",
    "detected_circles = cv2.HoughCircles(gray_blurred,  \n",
    "                   cv2.HOUGH_GRADIENT, 1, 20, param1 = 50, \n",
    "               param2 = 30, minRadius = 1, maxRadius = 40) \n",
    "  \n",
    "# Draw circles that are detected. \n",
    "if detected_circles is not None: \n",
    "  \n",
    "    # Convert the circle parameters a, b and r to integers. \n",
    "    detected_circles = np.uint16(np.around(detected_circles)) \n",
    "  \n",
    "    for pt in detected_circles[0, :]: \n",
    "        a, b, r = pt[0], pt[1], pt[2] \n",
    "  \n",
    "        # Draw the circumference of the circle. \n",
    "        cv2.circle(img, (a, b), r, (0, 255, 0), 2) \n",
    "  \n",
    "        # Draw a small circle (of radius 1) to show the center. \n",
    "        cv2.circle(img, (a, b), 1, (0, 0, 255), 3) \n",
    "        cv2.imshow(\"Detected Circle\", img) \n",
    "        cv2.waitKey(0) "
   ]
  },
  {
   "cell_type": "code",
   "execution_count": 1,
   "metadata": {},
   "outputs": [
    {
     "name": "stdout",
     "output_type": "stream",
     "text": [
      "<Swig Object of type '_Camera *' at 0x7fe42c181b70>\n",
      "Summary\n",
      "=======\n",
      "Manufacturer: Canon.Inc\n",
      "Model: Canon EOS 90D\n",
      "  Version: 3-1.0.0\n",
      "  Serial Number: d989c1ade04ef255feffe0a5aecbcffb\n",
      "Vendor Extension ID: 0xb (1.0)\n",
      "Vendor Extension Description: \n",
      "\n",
      "Capture Formats: JPEG\n",
      "Display Formats: Association/Directory, Script, DPOF, MS AVI, MS Wave, JPEG, CRW, Unknown(b103), Unknown(bf02), Defined Type, Unknown(b104), Unknown(b105)\n",
      "\n",
      "Device Capabilities:\n",
      "\tFile Download, File Deletion, File Upload\n",
      "\tNo Image Capture, No Open Capture, Canon EOS Capture, Canon EOS Capture 2\n",
      "\tCanon Wifi support\n",
      "\n",
      "Storage Devices Summary:\n",
      "store_00020001:\n",
      "\tStorageDescription: SD\n",
      "\tVolumeLabel: \n",
      "\tStorage Type: Removable RAM (memory card)\n",
      "\tFilesystemtype: Digital Camera Layout (DCIM)\n",
      "\tAccess Capability: Read-Write\n",
      "\tMaximum Capability: 31902400512 (30424 MB)\n",
      "\tFree Space (Bytes): 31902138368 (30424 MB)\n",
      "\tFree Space (Images): -1\n",
      "\n",
      "Device Property Summary:\n",
      "Property 0xd402:(read only) (type=0xffff) 'Canon EOS 90D'\n",
      "Property 0xd407:(read only) (type=0x6) 1\n",
      "Property 0xd406:(readwrite) (type=0xffff) 'Unknown Initiator'\n",
      "Property 0xd303:(read only) (type=0x2) 1\n",
      "Battery Level(0x5001):(read only) (type=0x2) Enumeration [100,0,75,0,50] value: 71% (71)\n",
      "\n"
     ]
    }
   ],
   "source": [
    "import gphoto2 as gp\n",
    "camera = gp.Camera()\n",
    "camera.init()\n",
    "print(camera)\n",
    "text = camera.get_summary()\n",
    "print('Summary')\n",
    "print('=======')\n",
    "print(str(text))\n",
    "camera.exit()\n"
   ]
  },
  {
   "cell_type": "code",
   "execution_count": 2,
   "metadata": {},
   "outputs": [
    {
     "name": "stderr",
     "output_type": "stream",
     "text": [
      "WARNING: gphoto2: (gp_context_error) Konnte keine Kamera finden\n",
      "WARNING: gphoto2: (gp_context_error) Konnte keine Kamera finden\n"
     ]
    },
    {
     "ename": "GPhoto2Error",
     "evalue": "[-105] Unbekanntes Modell",
     "output_type": "error",
     "traceback": [
      "\u001b[0;31m---------------------------------------------------------------------------\u001b[0m",
      "\u001b[0;31mGPhoto2Error\u001b[0m                              Traceback (most recent call last)",
      "Cell \u001b[0;32mIn[2], line 29\u001b[0m\n\u001b[1;32m     26\u001b[0m     \u001b[39mreturn\u001b[39;00m \u001b[39m0\u001b[39m\n\u001b[1;32m     28\u001b[0m \u001b[39mif\u001b[39;00m \u001b[39m__name__\u001b[39m \u001b[39m==\u001b[39m \u001b[39m\"\u001b[39m\u001b[39m__main__\u001b[39m\u001b[39m\"\u001b[39m:\n\u001b[0;32m---> 29\u001b[0m     sys\u001b[39m.\u001b[39mexit(main())\n",
      "Cell \u001b[0;32mIn[2], line 15\u001b[0m, in \u001b[0;36mmain\u001b[0;34m()\u001b[0m\n\u001b[1;32m     13\u001b[0m callback_obj \u001b[39m=\u001b[39m gp\u001b[39m.\u001b[39mcheck_result(gp\u001b[39m.\u001b[39muse_python_logging())\n\u001b[1;32m     14\u001b[0m camera \u001b[39m=\u001b[39m gp\u001b[39m.\u001b[39mCamera()\n\u001b[0;32m---> 15\u001b[0m camera\u001b[39m.\u001b[39;49minit()\n\u001b[1;32m     16\u001b[0m \u001b[39mprint\u001b[39m(\u001b[39m'\u001b[39m\u001b[39mCapturing image\u001b[39m\u001b[39m'\u001b[39m)\n\u001b[1;32m     17\u001b[0m file_path \u001b[39m=\u001b[39m camera\u001b[39m.\u001b[39mcapture(gp\u001b[39m.\u001b[39mGP_CAPTURE_IMAGE)\n",
      "\u001b[0;31mGPhoto2Error\u001b[0m: [-105] Unbekanntes Modell"
     ]
    }
   ],
   "source": [
    "import logging\n",
    "import locale\n",
    "import os\n",
    "import subprocess\n",
    "import sys\n",
    "\n",
    "import gphoto2 as gp\n",
    "\n",
    "def main():\n",
    "    locale.setlocale(locale.LC_ALL, '')\n",
    "    logging.basicConfig(\n",
    "        format='%(levelname)s: %(name)s: %(message)s', level=logging.WARNING)\n",
    "    callback_obj = gp.check_result(gp.use_python_logging())\n",
    "    camera = gp.Camera()\n",
    "    camera.init()\n",
    "    print('Capturing image')\n",
    "    file_path = camera.capture(gp.GP_CAPTURE_IMAGE)\n",
    "    print('Camera file path: {0}/{1}'.format(file_path.folder, file_path.name))\n",
    "    target = os.path.join('/tmp', file_path.name)\n",
    "    print('Copying image to', target)\n",
    "    camera_file = camera.file_get(\n",
    "        file_path.folder, file_path.name, gp.GP_FILE_TYPE_NORMAL)\n",
    "    camera_file.save(target)\n",
    "    subprocess.call(['xdg-open', target])\n",
    "    camera.exit()\n",
    "    return 0\n",
    "\n",
    "if __name__ == \"__main__\":\n",
    "    sys.exit(main())"
   ]
  }
 ],
 "metadata": {
  "kernelspec": {
   "display_name": "Python 3.10.10 64-bit",
   "language": "python",
   "name": "python3"
  },
  "language_info": {
   "codemirror_mode": {
    "name": "ipython",
    "version": 3
   },
   "file_extension": ".py",
   "mimetype": "text/x-python",
   "name": "python",
   "nbconvert_exporter": "python",
   "pygments_lexer": "ipython3",
   "version": "3.11.6"
  },
  "orig_nbformat": 4,
  "vscode": {
   "interpreter": {
    "hash": "e7370f93d1d0cde622a1f8e1c04877d8463912d04d973331ad4851f04de6915a"
   }
  }
 },
 "nbformat": 4,
 "nbformat_minor": 2
}
